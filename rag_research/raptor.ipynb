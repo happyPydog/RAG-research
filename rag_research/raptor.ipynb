{
 "cells": [
  {
   "cell_type": "markdown",
   "metadata": {},
   "source": [
    "# RAPTOR: Recursive Abstractive Processing and Thematic Organization for Retrieval\n",
    "\n",
    "Here are good resources to understand the RAPTOR:\n",
    "- [rag_techniques raptor example](https://github.com/NirDiamant/RAG_Techniques/blob/main/all_rag_techniques/raptor.ipynb)\n",
    "- [RAPTOR official source code](https://github.com/parthsarthi03/raptor)\n",
    "- My Medium (coming soon...)"
   ]
  },
  {
   "cell_type": "markdown",
   "metadata": {},
   "source": [
    "First, let's install required libraries and download the document for the demonstration.\n",
    " \n",
    "For the document, here choose the RAPTOR paper itself to demonstrate the RAPTOR model."
   ]
  },
  {
   "cell_type": "code",
   "execution_count": 10,
   "metadata": {},
   "outputs": [
    {
     "name": "stdout",
     "output_type": "stream",
     "text": [
      "Requirement already satisfied: arxiv in /Users/happydog/dev/rag-research/.venv/lib/python3.12/site-packages (2.1.3)\n",
      "Requirement already satisfied: PyMuPDF in /Users/happydog/dev/rag-research/.venv/lib/python3.12/site-packages (1.24.9)\n",
      "Requirement already satisfied: feedparser~=6.0.10 in /Users/happydog/dev/rag-research/.venv/lib/python3.12/site-packages (from arxiv) (6.0.11)\n",
      "Requirement already satisfied: requests~=2.32.0 in /Users/happydog/dev/rag-research/.venv/lib/python3.12/site-packages (from arxiv) (2.32.3)\n",
      "Requirement already satisfied: PyMuPDFb==1.24.9 in /Users/happydog/dev/rag-research/.venv/lib/python3.12/site-packages (from PyMuPDF) (1.24.9)\n",
      "Requirement already satisfied: sgmllib3k in /Users/happydog/dev/rag-research/.venv/lib/python3.12/site-packages (from feedparser~=6.0.10->arxiv) (1.0.0)\n",
      "Requirement already satisfied: charset-normalizer<4,>=2 in /Users/happydog/dev/rag-research/.venv/lib/python3.12/site-packages (from requests~=2.32.0->arxiv) (3.3.2)\n",
      "Requirement already satisfied: idna<4,>=2.5 in /Users/happydog/dev/rag-research/.venv/lib/python3.12/site-packages (from requests~=2.32.0->arxiv) (3.8)\n",
      "Requirement already satisfied: urllib3<3,>=1.21.1 in /Users/happydog/dev/rag-research/.venv/lib/python3.12/site-packages (from requests~=2.32.0->arxiv) (2.2.2)\n",
      "Requirement already satisfied: certifi>=2017.4.17 in /Users/happydog/dev/rag-research/.venv/lib/python3.12/site-packages (from requests~=2.32.0->arxiv) (2024.7.4)\n"
     ]
    }
   ],
   "source": [
    "!pip install -U arxiv PyMuPDF"
   ]
  },
  {
   "cell_type": "code",
   "execution_count": 15,
   "metadata": {},
   "outputs": [],
   "source": [
    "import re\n",
    "import ssl\n",
    "import tempfile\n",
    "\n",
    "import arxiv\n",
    "import fitz\n",
    "\n",
    "import urllib.error\n",
    "import urllib.request"
   ]
  },
  {
   "cell_type": "code",
   "execution_count": 17,
   "metadata": {},
   "outputs": [],
   "source": [
    "def download_paper(url: str) -> str:\n",
    "    \"\"\"Downloads the PDF of an ArXiv paper from the given URL and returns its text content.\"\"\"\n",
    "    #! Ensure SSL certificate is verified\n",
    "    try:\n",
    "        urllib.request.urlopen(url)\n",
    "    except (ssl.SSLCertVerificationError, urllib.error.URLError):\n",
    "        ssl._create_default_https_context = ssl._create_unverified_context\n",
    "\n",
    "    # * Extract ArXiv ID from the URL\n",
    "    arxiv_match = re.search(r\"(\\d{4}\\.\\d{4,5})(v\\d+)?\", url)\n",
    "    if not arxiv_match:\n",
    "        raise ValueError(\n",
    "            f\"Invalid ArXiv URL: {url}. Expected URL should contain ArXiv ID.\"\n",
    "        )\n",
    "    arxiv_id = arxiv_match.group(1)\n",
    "\n",
    "    # Fetch paper using ArXiv ID\n",
    "    client = arxiv.Client()\n",
    "    search_query = arxiv.Search(id_list=[arxiv_id])\n",
    "    search_result = client.results(search_query)\n",
    "\n",
    "    try:\n",
    "        paper = next(search_result)\n",
    "    except StopIteration:\n",
    "        raise ValueError(f\"Paper not found for ArXiv ID: {arxiv_id}\")\n",
    "\n",
    "    # Download PDF and extract text content\n",
    "    with tempfile.TemporaryDirectory() as temp_dir:\n",
    "        pdf_path = paper.download_pdf(dirpath=temp_dir)\n",
    "        doc = fitz.open(pdf_path)\n",
    "        text = \"\".join(page.get_text() for page in doc)\n",
    "\n",
    "    return text\n",
    "\n",
    "def chunk_text(text: str, chunk_size: int):..."
   ]
  },
  {
   "cell_type": "code",
   "execution_count": 19,
   "metadata": {},
   "outputs": [
    {
     "name": "stdout",
     "output_type": "stream",
     "text": [
      "Published as a conference paper at ICLR 2024\n",
      "RAPTOR: RECURSIVE ABSTRACTIVE PROCESSING\n",
      "FOR TREE-ORGANIZED RETRIEVAL\n",
      "Parth Sarthi, Salman Abdullah, Aditi Tuli, Shubh Khanna, Anna Goldie, Christopher D. Manning\n",
      "Stanford University\n",
      "psarthi@cs.stanford.edu\n",
      "ABSTRACT\n",
      "Retrieval-augmented language models can better adapt to changes in world state\n",
      "and incorporate long-tail knowledge. However, most existing methods retrieve\n",
      "only short contiguous chunks from a retrieval corpus, limiting holistic under-\n",
      "standing of the overall document context. We introduce the novel approach of\n",
      "recursively embedding, clustering, and summarizing chunks of text, constructing\n",
      "a tree with differing levels of summarization from the bottom up. At inference\n",
      "time, our RAPTOR model retrieves from this tree, integrating information across\n",
      "lengthy documents at different levels of abstraction. Controlled experiments show\n",
      "that retrieval with recursive summaries offers significant improvements over tra-\n",
      "ditional retrieval-augme\n"
     ]
    }
   ],
   "source": [
    "paper = download_paper(\"https://arxiv.org/abs/2401.18059\")\n",
    "print(paper[:1000])  # Display first 1000 characters of the paper"
   ]
  }
 ],
 "metadata": {
  "kernelspec": {
   "display_name": ".venv",
   "language": "python",
   "name": "python3"
  },
  "language_info": {
   "codemirror_mode": {
    "name": "ipython",
    "version": 3
   },
   "file_extension": ".py",
   "mimetype": "text/x-python",
   "name": "python",
   "nbconvert_exporter": "python",
   "pygments_lexer": "ipython3",
   "version": "3.12.3"
  }
 },
 "nbformat": 4,
 "nbformat_minor": 2
}
